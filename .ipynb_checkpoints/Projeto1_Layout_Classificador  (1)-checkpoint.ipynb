{
 "cells": [
  {
   "cell_type": "markdown",
   "metadata": {},
   "source": [
    "# Projeto 1 - Ciência dos Dados"
   ]
  },
  {
   "cell_type": "markdown",
   "metadata": {},
   "source": [
    "Nome: Alberto Mansur\n",
    "\n",
    "Nome: Lior Lerner\n"
   ]
  },
  {
   "cell_type": "markdown",
   "metadata": {},
   "source": [
    "Atenção: Serão permitidos grupos de três pessoas, mas com uma rubrica mais exigente. Grupos deste tamanho precisarão fazer um questionário de avaliação de trabalho em equipe"
   ]
  },
  {
   "cell_type": "markdown",
   "metadata": {},
   "source": [
    "___\n",
    "Carregando algumas bibliotecas:"
   ]
  },
  {
   "cell_type": "code",
   "execution_count": 283,
   "metadata": {},
   "outputs": [],
   "source": [
    "%matplotlib inline\n",
    "import pandas as pd\n",
    "import matplotlib.pyplot as plt\n",
    "import numpy as np\n",
    "import os\n",
    "import re\n",
    "from emoji import UNICODE_EMOJI"
   ]
  },
  {
   "cell_type": "code",
   "execution_count": 284,
   "metadata": {
    "scrolled": false
   },
   "outputs": [
    {
     "name": "stdout",
     "output_type": "stream",
     "text": [
      "Esperamos trabalhar no diretório\n",
      "C:\\Users\\betoa\\OneDrive\\INSPER\\2 sem\\CDADOS\\PROJETO 1 OF\\P1-Cdados-main\n"
     ]
    }
   ],
   "source": [
    "print('Esperamos trabalhar no diretório')\n",
    "print(os.getcwd())"
   ]
  },
  {
   "cell_type": "markdown",
   "metadata": {},
   "source": [
    "Carregando a base de dados com os tweets classificados como relevantes e não relevantes:"
   ]
  },
  {
   "cell_type": "code",
   "execution_count": 285,
   "metadata": {},
   "outputs": [],
   "source": [
    "filename = 'tweets_xbox.xlsx'"
   ]
  },
  {
   "cell_type": "code",
   "execution_count": null,
   "metadata": {},
   "outputs": [],
   "source": []
  },
  {
   "cell_type": "code",
   "execution_count": 286,
   "metadata": {},
   "outputs": [
    {
     "data": {
      "text/html": [
       "<div>\n",
       "<style scoped>\n",
       "    .dataframe tbody tr th:only-of-type {\n",
       "        vertical-align: middle;\n",
       "    }\n",
       "\n",
       "    .dataframe tbody tr th {\n",
       "        vertical-align: top;\n",
       "    }\n",
       "\n",
       "    .dataframe thead th {\n",
       "        text-align: right;\n",
       "    }\n",
       "</style>\n",
       "<table border=\"1\" class=\"dataframe\">\n",
       "  <thead>\n",
       "    <tr style=\"text-align: right;\">\n",
       "      <th></th>\n",
       "      <th>Treinamento</th>\n",
       "      <th>Unnamed: 1</th>\n",
       "    </tr>\n",
       "  </thead>\n",
       "  <tbody>\n",
       "    <tr>\n",
       "      <th>0</th>\n",
       "      <td>this isn’t meant to be a console war tweet, it...</td>\n",
       "      <td>0</td>\n",
       "    </tr>\n",
       "    <tr>\n",
       "      <th>1</th>\n",
       "      <td>spot the props! here's some the of models were...</td>\n",
       "      <td>0</td>\n",
       "    </tr>\n",
       "    <tr>\n",
       "      <th>2</th>\n",
       "      <td>@jaydakid8 i had both the ps5 and xbox series ...</td>\n",
       "      <td>0</td>\n",
       "    </tr>\n",
       "    <tr>\n",
       "      <th>3</th>\n",
       "      <td>the #playstationshowcase was a great success \\...</td>\n",
       "      <td>0</td>\n",
       "    </tr>\n",
       "    <tr>\n",
       "      <th>4</th>\n",
       "      <td>my brother finally got a new xbox but some thi...</td>\n",
       "      <td>2</td>\n",
       "    </tr>\n",
       "  </tbody>\n",
       "</table>\n",
       "</div>"
      ],
      "text/plain": [
       "                                         Treinamento  Unnamed: 1\n",
       "0  this isn’t meant to be a console war tweet, it...           0\n",
       "1  spot the props! here's some the of models were...           0\n",
       "2  @jaydakid8 i had both the ps5 and xbox series ...           0\n",
       "3  the #playstationshowcase was a great success \\...           0\n",
       "4  my brother finally got a new xbox but some thi...           2"
      ]
     },
     "execution_count": 286,
     "metadata": {},
     "output_type": "execute_result"
    }
   ],
   "source": [
    "train = pd.read_excel(filename)\n",
    "train.head(5)"
   ]
  },
  {
   "cell_type": "code",
   "execution_count": 287,
   "metadata": {},
   "outputs": [],
   "source": [
    "train = train.rename(columns={'Unnamed: 1': 'Indíce'})"
   ]
  },
  {
   "cell_type": "code",
   "execution_count": 288,
   "metadata": {},
   "outputs": [
    {
     "data": {
      "text/html": [
       "<div>\n",
       "<style scoped>\n",
       "    .dataframe tbody tr th:only-of-type {\n",
       "        vertical-align: middle;\n",
       "    }\n",
       "\n",
       "    .dataframe tbody tr th {\n",
       "        vertical-align: top;\n",
       "    }\n",
       "\n",
       "    .dataframe thead th {\n",
       "        text-align: right;\n",
       "    }\n",
       "</style>\n",
       "<table border=\"1\" class=\"dataframe\">\n",
       "  <thead>\n",
       "    <tr style=\"text-align: right;\">\n",
       "      <th></th>\n",
       "      <th>Teste</th>\n",
       "      <th>Unnamed: 1</th>\n",
       "      <th>Unnamed: 2</th>\n",
       "      <th>Unnamed: 3</th>\n",
       "      <th>Unnamed: 4</th>\n",
       "      <th>Unnamed: 5</th>\n",
       "      <th>Unnamed: 6</th>\n",
       "    </tr>\n",
       "  </thead>\n",
       "  <tbody>\n",
       "    <tr>\n",
       "      <th>0</th>\n",
       "      <td>@swtheory66 i've got ps4 and xbox series s and...</td>\n",
       "      <td>1</td>\n",
       "      <td>NaN</td>\n",
       "      <td>NaN</td>\n",
       "      <td>NaN</td>\n",
       "      <td>NaN</td>\n",
       "      <td>NaN</td>\n",
       "    </tr>\n",
       "    <tr>\n",
       "      <th>1</th>\n",
       "      <td>@zdzisiu2007 i don't be seeing \"to xbox\" anywh...</td>\n",
       "      <td>0</td>\n",
       "      <td>NaN</td>\n",
       "      <td>NaN</td>\n",
       "      <td>NaN</td>\n",
       "      <td>NaN</td>\n",
       "      <td>NaN</td>\n",
       "    </tr>\n",
       "    <tr>\n",
       "      <th>2</th>\n",
       "      <td>jorge henrique played ufc 4 (xbox one) in the ...</td>\n",
       "      <td>1</td>\n",
       "      <td>NaN</td>\n",
       "      <td>NaN</td>\n",
       "      <td>NaN</td>\n",
       "      <td>NaN</td>\n",
       "      <td>NaN</td>\n",
       "    </tr>\n",
       "    <tr>\n",
       "      <th>3</th>\n",
       "      <td>xbox news: meet the athletes of the gaming for...</td>\n",
       "      <td>0</td>\n",
       "      <td>NaN</td>\n",
       "      <td>NaN</td>\n",
       "      <td>NaN</td>\n",
       "      <td>NaN</td>\n",
       "      <td>NaN</td>\n",
       "    </tr>\n",
       "    <tr>\n",
       "      <th>4</th>\n",
       "      <td>controversial but if you own siege on pc and x...</td>\n",
       "      <td>0</td>\n",
       "      <td>NaN</td>\n",
       "      <td>NaN</td>\n",
       "      <td>NaN</td>\n",
       "      <td>NaN</td>\n",
       "      <td>NaN</td>\n",
       "    </tr>\n",
       "  </tbody>\n",
       "</table>\n",
       "</div>"
      ],
      "text/plain": [
       "                                               Teste  Unnamed: 1  Unnamed: 2  \\\n",
       "0  @swtheory66 i've got ps4 and xbox series s and...           1         NaN   \n",
       "1  @zdzisiu2007 i don't be seeing \"to xbox\" anywh...           0         NaN   \n",
       "2  jorge henrique played ufc 4 (xbox one) in the ...           1         NaN   \n",
       "3  xbox news: meet the athletes of the gaming for...           0         NaN   \n",
       "4  controversial but if you own siege on pc and x...           0         NaN   \n",
       "\n",
       "   Unnamed: 3  Unnamed: 4  Unnamed: 5 Unnamed: 6  \n",
       "0         NaN         NaN         NaN        NaN  \n",
       "1         NaN         NaN         NaN        NaN  \n",
       "2         NaN         NaN         NaN        NaN  \n",
       "3         NaN         NaN         NaN        NaN  \n",
       "4         NaN         NaN         NaN        NaN  "
      ]
     },
     "execution_count": 288,
     "metadata": {},
     "output_type": "execute_result"
    }
   ],
   "source": [
    "test = pd.read_excel(filename, sheet_name = 'Teste')\n",
    "test.head(5)"
   ]
  },
  {
   "cell_type": "code",
   "execution_count": 289,
   "metadata": {},
   "outputs": [],
   "source": [
    "test = test.rename(columns={'Unnamed: 1': 'Indíce'})"
   ]
  },
  {
   "cell_type": "markdown",
   "metadata": {},
   "source": [
    "___\n",
    "## Classificador automático de sentimento\n"
   ]
  },
  {
   "cell_type": "markdown",
   "metadata": {},
   "source": [
    "* Faça aqui uma descrição do seu produto e o que considerou como relevante ou não relevante na classificação dos tweets.\n",
    "\n",
    "\n",
    "O produto escolhido foi o Xbox, que é um console de videogame da Microsoft.\n",
    "\n",
    "\n",
    "Muito relevante (3):\n",
    "\n",
    "Os tweets considerados Muito Relevantes foram os que envolviam problemas técnicos com o console e falta de estoque\n",
    "\n",
    "Relevantes (2):\n",
    "Os tweets considerados relevantes foram os que envolviam opiniões  das pessoas em relação à comparação entre o Xbox e seus principais competidores, e opiniões relevantes de como melhorar a plataforma\n",
    "\n",
    "Pouco Relevantes (1):\n",
    "Os tweets considerados pouco relevantes foram os que envolviam ideias de jogos que poderião ser adicionados e opiniões relativamente relevantes (se a pessoas gosta da plataforma, etc.)\n",
    "\n",
    "Irrelevantes (0):\n",
    "Os tweets considerados irrelevantes foram os que não atenderam nenhuma das categorias listadas acima\n",
    "\n",
    "\n"
   ]
  },
  {
   "cell_type": "markdown",
   "metadata": {},
   "source": [
    "___\n",
    "### Montando um Classificador Naive-Bayes\n",
    "\n",
    "Considerando apenas as mensagens da planilha Treinamento, ensine  seu classificador."
   ]
  },
  {
   "cell_type": "code",
   "execution_count": 290,
   "metadata": {},
   "outputs": [],
   "source": [
    "#Definindo as variáveis como categóricas\n",
    "train['Indíce'] = train['Indíce'].astype('category')\n",
    "test['Indíce'] = test['Indíce'].astype('category')\n",
    "train['Indíce'].cat.categories = ['Não relevante','Pouco relevante','Relevante','Muito relevante']  \n",
    "test['Indíce'].cat.categories = ['Não relevante','Pouco relevante','Relevante','Muito relevante']  \n"
   ]
  },
  {
   "cell_type": "code",
   "execution_count": 291,
   "metadata": {},
   "outputs": [
    {
     "data": {
      "text/html": [
       "<div>\n",
       "<style scoped>\n",
       "    .dataframe tbody tr th:only-of-type {\n",
       "        vertical-align: middle;\n",
       "    }\n",
       "\n",
       "    .dataframe tbody tr th {\n",
       "        vertical-align: top;\n",
       "    }\n",
       "\n",
       "    .dataframe thead th {\n",
       "        text-align: right;\n",
       "    }\n",
       "</style>\n",
       "<table border=\"1\" class=\"dataframe\">\n",
       "  <thead>\n",
       "    <tr style=\"text-align: right;\">\n",
       "      <th></th>\n",
       "      <th>Teste</th>\n",
       "      <th>Indíce</th>\n",
       "      <th>Unnamed: 2</th>\n",
       "      <th>Unnamed: 3</th>\n",
       "      <th>Unnamed: 4</th>\n",
       "      <th>Unnamed: 5</th>\n",
       "      <th>Unnamed: 6</th>\n",
       "    </tr>\n",
       "  </thead>\n",
       "  <tbody>\n",
       "    <tr>\n",
       "      <th>0</th>\n",
       "      <td>@swtheory66 i've got ps4 and xbox series s and...</td>\n",
       "      <td>Pouco relevante</td>\n",
       "      <td>NaN</td>\n",
       "      <td>NaN</td>\n",
       "      <td>NaN</td>\n",
       "      <td>NaN</td>\n",
       "      <td>NaN</td>\n",
       "    </tr>\n",
       "    <tr>\n",
       "      <th>1</th>\n",
       "      <td>@zdzisiu2007 i don't be seeing \"to xbox\" anywh...</td>\n",
       "      <td>Não relevante</td>\n",
       "      <td>NaN</td>\n",
       "      <td>NaN</td>\n",
       "      <td>NaN</td>\n",
       "      <td>NaN</td>\n",
       "      <td>NaN</td>\n",
       "    </tr>\n",
       "    <tr>\n",
       "      <th>2</th>\n",
       "      <td>jorge henrique played ufc 4 (xbox one) in the ...</td>\n",
       "      <td>Pouco relevante</td>\n",
       "      <td>NaN</td>\n",
       "      <td>NaN</td>\n",
       "      <td>NaN</td>\n",
       "      <td>NaN</td>\n",
       "      <td>NaN</td>\n",
       "    </tr>\n",
       "    <tr>\n",
       "      <th>3</th>\n",
       "      <td>xbox news: meet the athletes of the gaming for...</td>\n",
       "      <td>Não relevante</td>\n",
       "      <td>NaN</td>\n",
       "      <td>NaN</td>\n",
       "      <td>NaN</td>\n",
       "      <td>NaN</td>\n",
       "      <td>NaN</td>\n",
       "    </tr>\n",
       "    <tr>\n",
       "      <th>4</th>\n",
       "      <td>controversial but if you own siege on pc and x...</td>\n",
       "      <td>Não relevante</td>\n",
       "      <td>NaN</td>\n",
       "      <td>NaN</td>\n",
       "      <td>NaN</td>\n",
       "      <td>NaN</td>\n",
       "      <td>NaN</td>\n",
       "    </tr>\n",
       "  </tbody>\n",
       "</table>\n",
       "</div>"
      ],
      "text/plain": [
       "                                               Teste           Indíce  \\\n",
       "0  @swtheory66 i've got ps4 and xbox series s and...  Pouco relevante   \n",
       "1  @zdzisiu2007 i don't be seeing \"to xbox\" anywh...    Não relevante   \n",
       "2  jorge henrique played ufc 4 (xbox one) in the ...  Pouco relevante   \n",
       "3  xbox news: meet the athletes of the gaming for...    Não relevante   \n",
       "4  controversial but if you own siege on pc and x...    Não relevante   \n",
       "\n",
       "   Unnamed: 2  Unnamed: 3  Unnamed: 4  Unnamed: 5 Unnamed: 6  \n",
       "0         NaN         NaN         NaN         NaN        NaN  \n",
       "1         NaN         NaN         NaN         NaN        NaN  \n",
       "2         NaN         NaN         NaN         NaN        NaN  \n",
       "3         NaN         NaN         NaN         NaN        NaN  \n",
       "4         NaN         NaN         NaN         NaN        NaN  "
      ]
     },
     "execution_count": 291,
     "metadata": {},
     "output_type": "execute_result"
    }
   ],
   "source": [
    "test.head()"
   ]
  },
  {
   "cell_type": "code",
   "execution_count": 292,
   "metadata": {},
   "outputs": [],
   "source": [
    "def emoji(text):\n",
    "    pattern = ''.join(' ' + char if char in UNICODE_EMOJI else char for char in text).strip()\n",
    "    return pattern\n",
    "\n",
    "def cleanup(text):\n",
    "    \"\"\"\n",
    "        Função de limpeza muito simples que troca alguns sinais básicos por espaços\n",
    "    \"\"\"\n",
    "    #import string\n",
    "    punctuation = '[!-.:?;/@]' # Note que os sinais [] são delimitadores de um conjunto.\n",
    "    pattern = re.compile(punctuation)\n",
    "    text_subbed = re.sub(pattern, '', emoji(text))\n",
    "    return text_subbed    \n",
    "\n"
   ]
  },
  {
   "cell_type": "code",
   "execution_count": 293,
   "metadata": {},
   "outputs": [],
   "source": [
    "def treinamento(data):\n",
    "    p_relevantes = dict()\n",
    "    p_irrelevantes = dict()\n",
    "    p_possiveis = set()\n",
    "    for index,row in data.iterrows():\n",
    "        tweet = row.Treinamento\n",
    "        for palavra in cleanup(tweet).split():\n",
    "            p_possiveis.add(palavra)\n",
    "            if row['Indíce'] == 'Muito relevante':\n",
    "                p_relevantes[palavra] = p_relevantes.get(palavra,0)+1\n",
    "            else:\n",
    "                p_irrelevantes[palavra] = p_irrelevantes.get(palavra,0)+1\n",
    "    return (p_possiveis,p_relevantes,p_irrelevantes)"
   ]
  },
  {
   "cell_type": "code",
   "execution_count": null,
   "metadata": {},
   "outputs": [],
   "source": []
  },
  {
   "cell_type": "code",
   "execution_count": 294,
   "metadata": {},
   "outputs": [
    {
     "name": "stdout",
     "output_type": "stream",
     "text": [
      "Tweets Muito relevante em Treinamento: 11\n",
      "Tweets relevantes em Treinamento: 61\n",
      "Tweets Pouco relevante em Treinamento: 79\n",
      "Tweets Não relevante em Treinamento: 349\n",
      "Tweets totais em Treinamento: 500\n",
      "\n",
      "\n",
      "Porcentagem de Tweets Muito relevante em Treinamento: 2.20%\n",
      "Porcentagem de Tweets relevantes em Treinamento: 12.20%\n",
      "Porcentagem de Tweets Pouco relevante em Treinamento: 15.80%\n",
      "Porcentagem de Tweets Não relevante em Treinamento: 69.80%\n",
      "\n",
      "\n",
      "Tweets Muito relevante em Teste: 11\n",
      "Tweets relevantes em Teste: 29\n",
      "Tweets Pouco relevante em Teste: 59\n",
      "Tweets Não relevante em Teste: 151\n",
      "Tweets totais em Teste: 250\n",
      "\n",
      "\n",
      "Porcentagem de Tweets Muito relevante em Teste: 4.40%\n",
      "Porcentagem de Tweets relevantes em Teste: 11.60%\n",
      "Porcentagem de Tweets Pouco relevante em Teste: 23.60%\n",
      "Porcentagem de Tweets Não relevante em Teste: 60.40%\n"
     ]
    }
   ],
   "source": [
    "resultados_treino = train['Indíce'].value_counts(True)\n",
    "muito_relevantes_treino = resultados_treino[3]\n",
    "relevantes_treino = resultados_treino[2]\n",
    "pouco_relevantes_treino = resultados_treino[1]\n",
    "não_relevantes_treino = resultados_treino[0]\n",
    "\n",
    "resultados_brutos_treino = train['Indíce'].value_counts()\n",
    "muito_relevantes_brutos_treino = resultados_brutos_treino[3]\n",
    "relevantes_brutos_treino = resultados_brutos_treino[2]\n",
    "pouco_relevantes_brutos_treino = resultados_brutos_treino[1]\n",
    "não_relevantes_brutos_treino = resultados_brutos_treino[0]\n",
    "\n",
    "tweets_totais_treino = muito_relevantes_brutos_treino + relevantes_brutos_treino + pouco_relevantes_brutos_treino + não_relevantes_brutos_treino\n",
    "resultados_teste = test['Indíce'].value_counts()\n",
    "muito_relevantes_teste = resultados_teste[3]\n",
    "relevantes_teste = resultados_teste[2]\n",
    "pouco_relevantes_teste = resultados_teste[1]\n",
    "não_relevantes_teste = resultados_teste[0]\n",
    "\n",
    "resultados_brutos_teste = test['Indíce'].value_counts()\n",
    "muito_relevantes_brutos_teste = resultados_brutos_teste[3]\n",
    "relevantes_brutos_teste = resultados_brutos_teste[2]\n",
    "pouco_relevantes_brutos_teste = resultados_brutos_teste[1]\n",
    "não_relevantes_brutos_teste = resultados_brutos_teste[0]\n",
    "\n",
    "tweets_totais_teste = muito_relevantes_brutos_teste + relevantes_brutos_teste + pouco_relevantes_brutos_teste + não_relevantes_brutos_teste\n",
    "\n",
    "print('Tweets Muito relevante em Treinamento: {0}'.format(muito_relevantes_brutos_treino))\n",
    "print('Tweets relevantes em Treinamento: {0}'.format(relevantes_brutos_treino))\n",
    "print('Tweets Pouco relevante em Treinamento: {0}'.format(pouco_relevantes_brutos_treino))\n",
    "print('Tweets Não relevante em Treinamento: {0}'.format(não_relevantes_brutos_treino))\n",
    "print('Tweets totais em Treinamento: {0}'.format(tweets_totais_treino))\n",
    "print('\\n')\n",
    "\n",
    "\n",
    "print('Porcentagem de Tweets Muito relevante em Treinamento: {0:.2f}%'.format(muito_relevantes_treino*100))\n",
    "print('Porcentagem de Tweets relevantes em Treinamento: {0:.2f}%'.format(relevantes_treino*100))\n",
    "print('Porcentagem de Tweets Pouco relevante em Treinamento: {0:.2f}%'.format(pouco_relevantes_treino*100))\n",
    "print('Porcentagem de Tweets Não relevante em Treinamento: {0:.2f}%'.format(não_relevantes_treino*100))\n",
    "print('\\n')\n",
    "\n",
    "print('Tweets Muito relevante em Teste: {0}'.format(muito_relevantes_brutos_teste))\n",
    "print('Tweets relevantes em Teste: {0}'.format(relevantes_brutos_teste))\n",
    "print('Tweets Pouco relevante em Teste: {0}'.format(pouco_relevantes_brutos_teste))\n",
    "print('Tweets Não relevante em Teste: {0}'.format(não_relevantes_brutos_teste))\n",
    "print('Tweets totais em Teste: {0}'.format(tweets_totais_teste))\n",
    "print('\\n')\n",
    "\n",
    "print('Porcentagem de Tweets Muito relevante em Teste: {0:.2f}%'.format(muito_relevantes_brutos_teste*100/250))\n",
    "print('Porcentagem de Tweets relevantes em Teste: {0:.2f}%'.format(relevantes_brutos_teste*100/250))\n",
    "print('Porcentagem de Tweets Pouco relevante em Teste: {0:.2f}%'.format(pouco_relevantes_brutos_teste*100/250))\n",
    "print('Porcentagem de Tweets Não relevante em Teste: {0:.2f}%'.format(não_relevantes_brutos_teste*100/250))"
   ]
  },
  {
   "cell_type": "code",
   "execution_count": 295,
   "metadata": {},
   "outputs": [],
   "source": [
    "soma = treinamento(train)"
   ]
  },
  {
   "cell_type": "code",
   "execution_count": 297,
   "metadata": {},
   "outputs": [
    {
     "data": {
      "text/plain": [
       "xbox        0.036141\n",
       "the         0.025214\n",
       "i           0.022021\n",
       "a           0.018659\n",
       "to          0.017986\n",
       "              ...   \n",
       "pony,       0.000168\n",
       "xbot        0.000168\n",
       "man.        0.000168\n",
       "fandoms     0.000168\n",
       "launch\".    0.000168\n",
       "Length: 2097, dtype: float64"
      ]
     },
     "execution_count": 297,
     "metadata": {},
     "output_type": "execute_result"
    }
   ],
   "source": [
    "# P(palavra)\n",
    "\n",
    "lista = []\n",
    "lista2 = []\n",
    "lista_total = []\n",
    "for tweet in test.Teste:\n",
    "    lista.append(tweet)\n",
    "\n",
    "    \n",
    "for tweet in lista:\n",
    "    a = tweet.split()\n",
    "    lista2.append(a)\n",
    "\n",
    "for tweet in lista2:\n",
    "    for palavra in tweet:\n",
    "        lista_total.append(palavra)\n",
    "    \n",
    "serie_test = pd.Series(lista3)\n",
    "serie_test.head()\n",
    "\n",
    "tabela_test = serie_test.value_counts()\n",
    "tabela_test\n",
    "\n",
    "tabela_test_relativa = serie_test.value_counts(True)\n",
    "tabela_test_relativa\n"
   ]
  },
  {
   "cell_type": "code",
   "execution_count": 298,
   "metadata": {},
   "outputs": [],
   "source": [
    "# Organizando o dataframe por nível de relevância\n",
    "test_mr = test.loc[test['Indíce'] == 'Muito relevante',:]\n",
    "test_re = test.loc[test['Indíce'] == 'Relevante',:]\n",
    "test_pr = test.loc[test['Indíce'] == 'Pouco relevante',:]\n",
    "test_ir = test.loc[test['Indíce'] == 'Não relevante',:]"
   ]
  },
  {
   "cell_type": "code",
   "execution_count": 299,
   "metadata": {},
   "outputs": [
    {
     "data": {
      "text/plain": [
       "xbox                0.030201\n",
       "to                  0.030201\n",
       "the                 0.026846\n",
       "you                 0.026846\n",
       "for                 0.023490\n",
       "                      ...   \n",
       "@pocketpairgames    0.003356\n",
       "not                 0.003356\n",
       "perfect             0.003356\n",
       "yet?                0.003356\n",
       "#fixurshit          0.003356\n",
       "Length: 198, dtype: float64"
      ]
     },
     "execution_count": 299,
     "metadata": {},
     "output_type": "execute_result"
    }
   ],
   "source": [
    "# P(palvra|muito relevante)\n",
    "lista = []\n",
    "lista2_mr = []\n",
    "palavras_mr = []\n",
    "for tweet in test_mr.Teste:\n",
    "    lista.append(tweet)\n",
    "\n",
    "    \n",
    "for tweet in lista:\n",
    "    a  = tweet.split()\n",
    "    lista2_mr.append(a)\n",
    "\n",
    "for tweet in lista2_mr:\n",
    "    for palavra in tweet:\n",
    "        palavras_mr.append(palavra)\n",
    "\n",
    "serie_test_mr = pd.Series(palavras_mr)\n",
    "serie_test_mr.head()\n",
    "\n",
    "tabela_test_mr = serie_test_mr.value_counts()\n",
    "tabela_test_mr\n",
    "\n",
    "tabela_test_relativa_mr = serie_test_mr.value_counts(True)\n",
    "tabela_test_relativa_mr"
   ]
  },
  {
   "cell_type": "code",
   "execution_count": 300,
   "metadata": {},
   "outputs": [
    {
     "data": {
      "text/plain": [
       "0.0500924525130274"
      ]
     },
     "execution_count": 300,
     "metadata": {},
     "output_type": "execute_result"
    }
   ],
   "source": [
    "prob_mr = len(palavras_mr)/len(lista_total)\n",
    "prob_mr"
   ]
  },
  {
   "cell_type": "code",
   "execution_count": 301,
   "metadata": {},
   "outputs": [
    {
     "data": {
      "text/plain": [
       "the                        0.031763\n",
       "xbox                       0.030668\n",
       "a                          0.028478\n",
       "i                          0.021906\n",
       "and                        0.015334\n",
       "                             ...   \n",
       "any                        0.001095\n",
       "park                       0.001095\n",
       "lag                        0.001095\n",
       "https://t.co/dvxmefx4c1    0.001095\n",
       "cant                       0.001095\n",
       "Length: 485, dtype: float64"
      ]
     },
     "execution_count": 301,
     "metadata": {},
     "output_type": "execute_result"
    }
   ],
   "source": [
    "# P(palvra| relevante)\n",
    "lista = []\n",
    "lista2_re = []\n",
    "palavras_re = []\n",
    "for tweet in test_re.Teste:\n",
    "    lista.append(tweet)\n",
    "\n",
    "for tweet in lista:\n",
    "    a  = tweet.split()\n",
    "    lista2_re.append(a)\n",
    "\n",
    "for tweet in lista2_re:\n",
    "    for palavra in tweet:\n",
    "        palavras_re.append(palavra)\n",
    "        \n",
    "serie_test_re = pd.Series(palavras_re)\n",
    "serie_test_re.head()\n",
    "\n",
    "tabela_test_re = serie_test_re.value_counts()\n",
    "tabela_test_re\n",
    "\n",
    "tabela_test_relativa_re = serie_test_re.value_counts(True)\n",
    "tabela_test_relativa_re"
   ]
  },
  {
   "cell_type": "code",
   "execution_count": 302,
   "metadata": {},
   "outputs": [
    {
     "data": {
      "text/plain": [
       "0.15347117162548327"
      ]
     },
     "execution_count": 302,
     "metadata": {},
     "output_type": "execute_result"
    }
   ],
   "source": [
    "prob_re = len(palavras_re)/len(lista_total)\n",
    "prob_re"
   ]
  },
  {
   "cell_type": "code",
   "execution_count": 303,
   "metadata": {},
   "outputs": [
    {
     "data": {
      "text/plain": [
       "xbox         0.036601\n",
       "the          0.027451\n",
       "i            0.022876\n",
       "a            0.020915\n",
       "to           0.018301\n",
       "               ...   \n",
       "many         0.000654\n",
       "aspects      0.000654\n",
       "complete,    0.000654\n",
       "interface    0.000654\n",
       "launch\".     0.000654\n",
       "Length: 734, dtype: float64"
      ]
     },
     "execution_count": 303,
     "metadata": {},
     "output_type": "execute_result"
    }
   ],
   "source": [
    "# P(palvra|Pouco relevante)\n",
    "lista = []\n",
    "lista2_pr = []\n",
    "palavras_pr = []\n",
    "for tweet in test_pr.Teste:\n",
    "    lista.append(tweet)\n",
    "\n",
    "for tweet in lista:\n",
    "    a  = tweet.split()\n",
    "    lista2_pr.append(a)\n",
    "\n",
    "for tweet in lista2_pr:\n",
    "    for palavra in tweet:\n",
    "        palavras_pr.append(palavra)\n",
    "    \n",
    "serie_test_pr = pd.Series(palavras_pr)\n",
    "serie_test_pr.head()\n",
    "\n",
    "tabela_test_pr = serie_test_pr.value_counts()\n",
    "tabela_test_pr\n",
    "\n",
    "tabela_test_relativa_pr = serie_test_pr.value_counts(True)\n",
    "tabela_test_relativa_pr"
   ]
  },
  {
   "cell_type": "code",
   "execution_count": 304,
   "metadata": {},
   "outputs": [
    {
     "data": {
      "text/plain": [
       "0.25718608169440244"
      ]
     },
     "execution_count": 304,
     "metadata": {},
     "output_type": "execute_result"
    }
   ],
   "source": [
    "# P(relevante)\n",
    "prob_pr = len(palavras_pr)/len(lista_total)\n",
    "prob_pr"
   ]
  },
  {
   "cell_type": "code",
   "execution_count": 305,
   "metadata": {},
   "outputs": [
    {
     "data": {
      "text/plain": [
       "xbox                       0.038030\n",
       "the                        0.022132\n",
       "i                          0.021820\n",
       "to                         0.018392\n",
       "on                         0.016209\n",
       "                             ...   \n",
       "@erryyzzz                  0.000312\n",
       "you'rr                     0.000312\n",
       "entire                     0.000312\n",
       "feed                       0.000312\n",
       "https://t.co/ybbbbyg7jl    0.000312\n",
       "Length: 1354, dtype: float64"
      ]
     },
     "execution_count": 305,
     "metadata": {},
     "output_type": "execute_result"
    }
   ],
   "source": [
    "#  P(palavra| irrelevante)\n",
    "lista = []\n",
    "lista2_ir = []\n",
    "palavras_ir = []\n",
    "for tweet in test_ir.Teste:\n",
    "    lista.append(tweet)\n",
    "\n",
    "for tweet in lista:\n",
    "    a  = tweet.split()\n",
    "    lista2_ir.append(a)\n",
    "\n",
    "for tweet in lista2_ir:\n",
    "    for palavra in tweet:\n",
    "        palavras_ir.append(palavra)\n",
    "        \n",
    "serie_test_ir = pd.Series(palavras_ir)\n",
    "serie_test_ir.head()\n",
    "\n",
    "tabela_test_ir = serie_test_ir.value_counts()\n",
    "tabela_test_ir\n",
    "\n",
    "tabela_test_relativa_ir = serie_test_ir.value_counts(True)\n",
    "tabela_test_relativa_ir"
   ]
  },
  {
   "cell_type": "code",
   "execution_count": 306,
   "metadata": {},
   "outputs": [
    {
     "data": {
      "text/plain": [
       "0.5392502941670869"
      ]
     },
     "execution_count": 306,
     "metadata": {},
     "output_type": "execute_result"
    }
   ],
   "source": [
    "#P(Irrelevante)\n",
    "prob_ir = len(palavras_ir)/len(lista_total)\n",
    "prob_ir"
   ]
  },
  {
   "cell_type": "code",
   "execution_count": 307,
   "metadata": {},
   "outputs": [
    {
     "name": "stdout",
     "output_type": "stream",
     "text": [
      "0.003355704697986577\n"
     ]
    }
   ],
   "source": [
    "# P(palavra| muito relevante) para cada palavra\n",
    "\n",
    "dic_mr = (dict(tabela_test_relativa_mr))\n",
    "\n",
    "lista_prob = []\n",
    "for tweet in lista2_mr:\n",
    "    for palavra in tweet:\n",
    "        prob = dic_mr[str(palavra)]\n",
    "        lista_prob.append(prob)\n",
    "        \n",
    "print(prob)\n",
    "        "
   ]
  },
  {
   "cell_type": "code",
   "execution_count": 308,
   "metadata": {},
   "outputs": [
    {
     "name": "stdout",
     "output_type": "stream",
     "text": [
      "0.00547645125958379\n"
     ]
    }
   ],
   "source": [
    "# P(palavra|relevante) para cada palavra\n",
    "dic_re = (dict(tabela_test_relativa_re))\n",
    "\n",
    "lista_prob = []\n",
    "for tweet in lista2_re:\n",
    "    for palavra in tweet:\n",
    "        prob = dic_re[str(palavra)]\n",
    "        lista_prob.append(prob)\n",
    "\n",
    "    \n",
    "print(prob)"
   ]
  },
  {
   "cell_type": "code",
   "execution_count": 309,
   "metadata": {},
   "outputs": [
    {
     "name": "stdout",
     "output_type": "stream",
     "text": [
      "0.00065359477124183\n"
     ]
    }
   ],
   "source": [
    "# P(palavra| Pouco relevante) para cada palavra\n",
    "dic_pr = (dict(tabela_test_relativa_pr))\n",
    "\n",
    "lista_prob = []\n",
    "for tweet in lista2_pr:\n",
    "    for palavra in tweet:\n",
    "        prob = dic_pr[str(palavra)]\n",
    "        lista_prob.append(prob)\n",
    "\n",
    "print(prob)"
   ]
  },
  {
   "cell_type": "code",
   "execution_count": 310,
   "metadata": {},
   "outputs": [
    {
     "name": "stdout",
     "output_type": "stream",
     "text": [
      "0.0003117206982543641\n"
     ]
    }
   ],
   "source": [
    "# P(palavra| irrelevante) para cada palavra\n",
    "dic_ir = (dict(tabela_test_relativa_ir))\n",
    "\n",
    "lista_prob = []\n",
    "for tweet in lista2_ir:\n",
    "    for palavra in tweet:\n",
    "        prob = dic_ir[str(palavra)]\n",
    "        lista_prob.append(prob)\n",
    "        \n",
    "print(prob)"
   ]
  },
  {
   "cell_type": "code",
   "execution_count": 320,
   "metadata": {},
   "outputs": [
    {
     "ename": "KeyError",
     "evalue": "'celebrate'",
     "output_type": "error",
     "traceback": [
      "\u001b[1;31m---------------------------------------------------------------------------\u001b[0m",
      "\u001b[1;31mKeyError\u001b[0m                                  Traceback (most recent call last)",
      "\u001b[1;32m~\\AppData\\Local\\Temp/ipykernel_32376/610077009.py\u001b[0m in \u001b[0;36m<module>\u001b[1;34m\u001b[0m\n\u001b[0;32m      6\u001b[0m     \u001b[1;32mif\u001b[0m \u001b[0mpalavra\u001b[0m \u001b[1;32mnot\u001b[0m \u001b[1;32min\u001b[0m \u001b[0mpal_n_rep\u001b[0m\u001b[1;33m:\u001b[0m\u001b[1;33m\u001b[0m\u001b[1;33m\u001b[0m\u001b[0m\n\u001b[0;32m      7\u001b[0m         \u001b[0mpal_n_rep\u001b[0m\u001b[1;33m.\u001b[0m\u001b[0mappend\u001b[0m\u001b[1;33m(\u001b[0m\u001b[0mpalavra\u001b[0m\u001b[1;33m)\u001b[0m\u001b[1;33m\u001b[0m\u001b[1;33m\u001b[0m\u001b[0m\n\u001b[1;32m----> 8\u001b[1;33m     \u001b[0mprob_laplace\u001b[0m \u001b[1;33m=\u001b[0m \u001b[0mdic_mr\u001b[0m\u001b[1;33m[\u001b[0m\u001b[0mstr\u001b[0m\u001b[1;33m(\u001b[0m\u001b[0mpalavra\u001b[0m\u001b[1;33m)\u001b[0m\u001b[1;33m]\u001b[0m\u001b[1;33m+\u001b[0m\u001b[1;36m1\u001b[0m\u001b[1;33m/\u001b[0m\u001b[1;33m(\u001b[0m\u001b[0mlen\u001b[0m\u001b[1;33m(\u001b[0m\u001b[0mpal_n_rep\u001b[0m\u001b[1;33m)\u001b[0m\u001b[1;33m+\u001b[0m\u001b[1;33m(\u001b[0m\u001b[0mlen\u001b[0m\u001b[1;33m(\u001b[0m\u001b[0mtweet\u001b[0m\u001b[1;33m)\u001b[0m\u001b[1;33m)\u001b[0m\u001b[1;33m)\u001b[0m\u001b[1;33m\u001b[0m\u001b[1;33m\u001b[0m\u001b[0m\n\u001b[0m\u001b[0;32m      9\u001b[0m     \u001b[0mlista_laplace_mr\u001b[0m\u001b[1;33m.\u001b[0m\u001b[0mappend\u001b[0m\u001b[1;33m(\u001b[0m\u001b[0mprob_laplace\u001b[0m\u001b[1;33m)\u001b[0m\u001b[1;33m\u001b[0m\u001b[1;33m\u001b[0m\u001b[0m\n\u001b[0;32m     10\u001b[0m \u001b[1;33m\u001b[0m\u001b[0m\n",
      "\u001b[1;31mKeyError\u001b[0m: 'celebrate'"
     ]
    }
   ],
   "source": [
    "#Calcula Probabilidade Final para muito relevante\n",
    "pal_n_rep = []\n",
    "lista_laplace_mr = []\n",
    "probf = 1\n",
    "\n",
    "for palavra in tweet:\n",
    "    if palavra not in pal_n_rep:\n",
    "        pal_n_rep.append(palavra)\n",
    "    prob_laplace = dic_mr[str(palavra)]+1/(len(pal_n_rep)+(len(tweet)))\n",
    "    lista_laplace_mr.append(prob_laplace)\n",
    "    \n",
    "for prob in lista_laplace_mr:\n",
    "    probf = probf *prob\n",
    "    \n",
    "    \n"
   ]
  },
  {
   "cell_type": "code",
   "execution_count": 328,
   "metadata": {},
   "outputs": [
    {
     "ename": "KeyError",
     "evalue": "'celebrate'",
     "output_type": "error",
     "traceback": [
      "\u001b[1;31m---------------------------------------------------------------------------\u001b[0m",
      "\u001b[1;31mKeyError\u001b[0m                                  Traceback (most recent call last)",
      "\u001b[1;32m~\\AppData\\Local\\Temp/ipykernel_32376/2300240274.py\u001b[0m in \u001b[0;36m<module>\u001b[1;34m\u001b[0m\n\u001b[0;32m      5\u001b[0m     \u001b[1;32mif\u001b[0m \u001b[0mpalavra\u001b[0m \u001b[1;32mnot\u001b[0m \u001b[1;32min\u001b[0m \u001b[0mpal_n_rep\u001b[0m\u001b[1;33m:\u001b[0m\u001b[1;33m\u001b[0m\u001b[1;33m\u001b[0m\u001b[0m\n\u001b[0;32m      6\u001b[0m         \u001b[0mpal_n_rep\u001b[0m\u001b[1;33m.\u001b[0m\u001b[0mappend\u001b[0m\u001b[1;33m(\u001b[0m\u001b[0mpalavra\u001b[0m\u001b[1;33m)\u001b[0m\u001b[1;33m\u001b[0m\u001b[1;33m\u001b[0m\u001b[0m\n\u001b[1;32m----> 7\u001b[1;33m     \u001b[0mprob_laplace\u001b[0m \u001b[1;33m=\u001b[0m \u001b[0mdic_re\u001b[0m\u001b[1;33m[\u001b[0m\u001b[0mstr\u001b[0m\u001b[1;33m(\u001b[0m\u001b[0mpalavra\u001b[0m\u001b[1;33m)\u001b[0m\u001b[1;33m]\u001b[0m\u001b[1;33m+\u001b[0m\u001b[1;36m1\u001b[0m\u001b[1;33m/\u001b[0m\u001b[1;33m(\u001b[0m\u001b[0mlen\u001b[0m\u001b[1;33m(\u001b[0m\u001b[0mpal_n_rep\u001b[0m\u001b[1;33m)\u001b[0m\u001b[1;33m+\u001b[0m\u001b[1;33m(\u001b[0m\u001b[0mlen\u001b[0m\u001b[1;33m(\u001b[0m\u001b[0mtweet\u001b[0m\u001b[1;33m)\u001b[0m\u001b[1;33m)\u001b[0m\u001b[1;33m)\u001b[0m\u001b[1;33m\u001b[0m\u001b[1;33m\u001b[0m\u001b[0m\n\u001b[0m\u001b[0;32m      8\u001b[0m     \u001b[0mlista_laplace_re\u001b[0m\u001b[1;33m.\u001b[0m\u001b[0mappend\u001b[0m\u001b[1;33m(\u001b[0m\u001b[0mprob_laplace\u001b[0m\u001b[1;33m)\u001b[0m\u001b[1;33m\u001b[0m\u001b[1;33m\u001b[0m\u001b[0m\n\u001b[0;32m      9\u001b[0m \u001b[1;33m\u001b[0m\u001b[0m\n",
      "\u001b[1;31mKeyError\u001b[0m: 'celebrate'"
     ]
    }
   ],
   "source": [
    "#Calcula Probabilidade Final para relevante\n",
    "lista_laplace_re = []\n",
    "probf = 1\n",
    "\n",
    "for palavra in tweet:\n",
    "    if palavra not in pal_n_rep:\n",
    "        pal_n_rep.append(palavra)\n",
    "    prob_laplace = dic_re[str(palavra)]+1/(len(pal_n_rep)+(len(tweet)))\n",
    "    lista_laplace_re.append(prob_laplace)\n",
    "    \n",
    "for prob in lista_laplace_re:\n",
    "    probf = probf *prob"
   ]
  },
  {
   "cell_type": "code",
   "execution_count": 326,
   "metadata": {},
   "outputs": [
    {
     "ename": "KeyError",
     "evalue": "'celebrate'",
     "output_type": "error",
     "traceback": [
      "\u001b[1;31m---------------------------------------------------------------------------\u001b[0m",
      "\u001b[1;31mKeyError\u001b[0m                                  Traceback (most recent call last)",
      "\u001b[1;32m~\\AppData\\Local\\Temp/ipykernel_32376/1679262411.py\u001b[0m in \u001b[0;36m<module>\u001b[1;34m\u001b[0m\n\u001b[0;32m      5\u001b[0m     \u001b[1;32mif\u001b[0m \u001b[0mpalavra\u001b[0m \u001b[1;32mnot\u001b[0m \u001b[1;32min\u001b[0m \u001b[0mpal_n_rep\u001b[0m\u001b[1;33m:\u001b[0m\u001b[1;33m\u001b[0m\u001b[1;33m\u001b[0m\u001b[0m\n\u001b[0;32m      6\u001b[0m         \u001b[0mpal_n_rep\u001b[0m\u001b[1;33m.\u001b[0m\u001b[0mappend\u001b[0m\u001b[1;33m(\u001b[0m\u001b[0mpalavra\u001b[0m\u001b[1;33m)\u001b[0m\u001b[1;33m\u001b[0m\u001b[1;33m\u001b[0m\u001b[0m\n\u001b[1;32m----> 7\u001b[1;33m     \u001b[0mprob_laplace\u001b[0m \u001b[1;33m=\u001b[0m \u001b[0mdic_pr\u001b[0m\u001b[1;33m[\u001b[0m\u001b[0mstr\u001b[0m\u001b[1;33m(\u001b[0m\u001b[0mpalavra\u001b[0m\u001b[1;33m)\u001b[0m\u001b[1;33m]\u001b[0m\u001b[1;33m+\u001b[0m\u001b[1;36m1\u001b[0m\u001b[1;33m/\u001b[0m\u001b[1;33m(\u001b[0m\u001b[0mlen\u001b[0m\u001b[1;33m(\u001b[0m\u001b[0mpal_n_rep\u001b[0m\u001b[1;33m)\u001b[0m\u001b[1;33m+\u001b[0m\u001b[1;33m(\u001b[0m\u001b[0mlen\u001b[0m\u001b[1;33m(\u001b[0m\u001b[0mtweet\u001b[0m\u001b[1;33m)\u001b[0m\u001b[1;33m)\u001b[0m\u001b[1;33m)\u001b[0m\u001b[1;33m\u001b[0m\u001b[1;33m\u001b[0m\u001b[0m\n\u001b[0m\u001b[0;32m      8\u001b[0m     \u001b[0mlista_laplace_pr\u001b[0m\u001b[1;33m.\u001b[0m\u001b[0mappend\u001b[0m\u001b[1;33m(\u001b[0m\u001b[0mprob_laplace\u001b[0m\u001b[1;33m)\u001b[0m\u001b[1;33m\u001b[0m\u001b[1;33m\u001b[0m\u001b[0m\n\u001b[0;32m      9\u001b[0m \u001b[1;33m\u001b[0m\u001b[0m\n",
      "\u001b[1;31mKeyError\u001b[0m: 'celebrate'"
     ]
    }
   ],
   "source": [
    "#Calcula Probabilidade Final para pouco relevante\n",
    "lista_laplace_pr = []\n",
    "probf = 1\n",
    "\n",
    "for palavra in tweet:\n",
    "    if palavra not in pal_n_rep:\n",
    "        pal_n_rep.append(palavra)\n",
    "    prob_laplace = dic_pr[str(palavra)]+1/(len(pal_n_rep)+(len(tweet)))\n",
    "    lista_laplace_pr.append(prob_laplace)\n",
    "    \n",
    "for prob in lista_laplace_pr:\n",
    "    probf = probf *prob"
   ]
  },
  {
   "cell_type": "code",
   "execution_count": 325,
   "metadata": {},
   "outputs": [],
   "source": [
    "#Calcula Probabilidade Final para irrelevante\n",
    "lista_laplace_ir = []\n",
    "probf = 1\n",
    "\n",
    "for palavra in tweet:\n",
    "    if palavra not in pal_n_rep:\n",
    "        pal_n_rep.append(palavra)\n",
    "    prob_laplace = dic_ir[str(palavra)]+1/(len(pal_n_rep)+(len(tweet)))\n",
    "    lista_laplace_ir.append(prob_laplace)\n",
    "    \n",
    "for prob in lista_laplace_ir:\n",
    "    probf = probf *prob"
   ]
  },
  {
   "cell_type": "markdown",
   "metadata": {},
   "source": [
    " CLASSIFICADOR COMPLETO:\n"
   ]
  },
  {
   "cell_type": "code",
   "execution_count": null,
   "metadata": {},
   "outputs": [],
   "source": [
    "def classificador_de_tweets(tweet):\n",
    "    # P(palavra)\n",
    "\n"
   ]
  },
  {
   "cell_type": "markdown",
   "metadata": {},
   "source": [
    "___\n",
    "### Verificando a performance do Classificador\n",
    "\n",
    "Agora você deve testar o seu classificador com a base de Testes."
   ]
  },
  {
   "cell_type": "code",
   "execution_count": null,
   "metadata": {},
   "outputs": [],
   "source": []
  },
  {
   "cell_type": "code",
   "execution_count": null,
   "metadata": {},
   "outputs": [],
   "source": []
  },
  {
   "cell_type": "code",
   "execution_count": null,
   "metadata": {},
   "outputs": [],
   "source": []
  },
  {
   "cell_type": "code",
   "execution_count": null,
   "metadata": {},
   "outputs": [],
   "source": []
  },
  {
   "cell_type": "code",
   "execution_count": null,
   "metadata": {},
   "outputs": [],
   "source": []
  },
  {
   "cell_type": "code",
   "execution_count": null,
   "metadata": {},
   "outputs": [],
   "source": []
  },
  {
   "cell_type": "code",
   "execution_count": null,
   "metadata": {},
   "outputs": [],
   "source": []
  },
  {
   "cell_type": "markdown",
   "metadata": {},
   "source": [
    "___\n",
    "### Concluindo"
   ]
  },
  {
   "cell_type": "code",
   "execution_count": null,
   "metadata": {},
   "outputs": [],
   "source": []
  },
  {
   "cell_type": "code",
   "execution_count": null,
   "metadata": {},
   "outputs": [],
   "source": []
  },
  {
   "cell_type": "code",
   "execution_count": null,
   "metadata": {},
   "outputs": [],
   "source": []
  },
  {
   "cell_type": "markdown",
   "metadata": {},
   "source": [
    "___\n",
    "### Qualidade do Classificador a partir de novas separações dos tweets entre Treinamento e Teste\n",
    "\n",
    "Caso for fazer esse item do Projeto"
   ]
  },
  {
   "cell_type": "code",
   "execution_count": null,
   "metadata": {},
   "outputs": [],
   "source": []
  },
  {
   "cell_type": "code",
   "execution_count": null,
   "metadata": {},
   "outputs": [],
   "source": []
  },
  {
   "cell_type": "code",
   "execution_count": null,
   "metadata": {},
   "outputs": [],
   "source": []
  },
  {
   "cell_type": "markdown",
   "metadata": {},
   "source": [
    "___\n",
    "## Aperfeiçoamento:\n",
    "\n",
    "Trabalhos que conseguirem pelo menos conceito B vão evoluir em conceito dependendo da quantidade de itens avançados:\n",
    "\n",
    "* IMPLEMENTOU outras limpezas e transformações que não afetem a qualidade da informação contida nos tweets. Ex: stemming, lemmatization, stopwords\n",
    "* CORRIGIU separação de espaços entre palavras e emojis ou entre emojis e emojis\n",
    "* CRIOU categorias intermediárias de relevância baseadas na probabilidade: ex.: muito relevante, relevante, neutro, irrelevante, muito irrelevante. Pelo menos quatro categorias, com adição de mais tweets na base, conforme enunciado. (OBRIGATÓRIO PARA TRIOS, sem contar como item avançado)\n",
    "* EXPLICOU porquê não pode usar o próprio classificador para gerar mais amostras de treinamento\n",
    "* PROPÔS diferentes cenários para Naïve Bayes fora do contexto do projeto\n",
    "* SUGERIU e EXPLICOU melhorias reais com indicações concretas de como implementar (indicar como fazer e indicar material de pesquisa)\n",
    "* FEZ o item 6. Qualidade do Classificador a partir de novas separações dos tweets entre Treinamento e Teste descrito no enunciado do projeto (OBRIGATÓRIO para conceitos A ou A+)"
   ]
  },
  {
   "cell_type": "markdown",
   "metadata": {},
   "source": [
    "___\n",
    "## Referências"
   ]
  },
  {
   "cell_type": "markdown",
   "metadata": {},
   "source": [
    "[Naive Bayes and Text Classification](https://arxiv.org/pdf/1410.5329.pdf)  **Mais completo**\n",
    "\n",
    "[A practical explanation of a Naive Bayes Classifier](https://monkeylearn.com/blog/practical-explanation-naive-bayes-classifier/) **Mais simples**"
   ]
  },
  {
   "cell_type": "code",
   "execution_count": null,
   "metadata": {},
   "outputs": [],
   "source": []
  }
 ],
 "metadata": {
  "kernelspec": {
   "display_name": "Python 3",
   "language": "python",
   "name": "python3"
  },
  "language_info": {
   "codemirror_mode": {
    "name": "ipython",
    "version": 3
   },
   "file_extension": ".py",
   "mimetype": "text/x-python",
   "name": "python",
   "nbconvert_exporter": "python",
   "pygments_lexer": "ipython3",
   "version": "3.8.5"
  }
 },
 "nbformat": 4,
 "nbformat_minor": 4
}
